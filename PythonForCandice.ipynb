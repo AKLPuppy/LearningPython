{
  "nbformat": 4,
  "nbformat_minor": 0,
  "metadata": {
    "colab": {
      "provenance": [],
      "authorship_tag": "ABX9TyNZmGKTwoHS3YTMbWZxHmVy",
      "include_colab_link": true
    },
    "kernelspec": {
      "name": "python3",
      "display_name": "Python 3"
    },
    "language_info": {
      "name": "python"
    }
  },
  "cells": [
    {
      "cell_type": "markdown",
      "metadata": {
        "id": "view-in-github",
        "colab_type": "text"
      },
      "source": [
        "<a href=\"https://colab.research.google.com/github/AKLPuppy/LearningPython/blob/main/PythonForCandice.ipynb\" target=\"_parent\"><img src=\"https://colab.research.google.com/assets/colab-badge.svg\" alt=\"Open In Colab\"/></a>"
      ]
    },
    {
      "cell_type": "markdown",
      "source": [
        "\n",
        "## AI Tools\n",
        "\n",
        "Example of use:\n",
        "> explain memory model of str split in python to a 10 yr old\n",
        "\n",
        "[Claude AI](https://claude.ai/)\n",
        "\n",
        "[Perplexity AI](https://www.perplexity.ai/)\n"
      ],
      "metadata": {
        "id": "32gcrOfj1lv5"
      }
    },
    {
      "cell_type": "markdown",
      "source": [
        "## Tutorials\n",
        "[Python W3cSchools](https://www.w3schools.com/python/default.asp)\n",
        "\n",
        "[Python Tutorial for Beginners](https://https://www.youtube.com/watch?v=DZwmZ8Usvnk)\n",
        "\n",
        "[Git tutorial](https://www.youtube.com/watch?v=HVsySz-h9r4)\n"
      ],
      "metadata": {
        "id": "j1YrF0dA3Z4m"
      }
    },
    {
      "cell_type": "markdown",
      "source": [
        "# Practices\n",
        "\n",
        "### 31 Aug 2024\n",
        "Please print out data type and value of each element in the following list by filling in an appropriate parameter into the `print` method."
      ],
      "metadata": {
        "id": "TzWPD42Z2aV7"
      }
    },
    {
      "cell_type": "code",
      "source": [
        "myList = ['aa', 1, -7, 3.12, True]\n",
        "for e in myList:\n",
        "   print()"
      ],
      "metadata": {
        "colab": {
          "base_uri": "https://localhost:8080/"
        },
        "id": "vDI4b75H2hZV",
        "outputId": "e1fe9089-c67e-45dc-eaf1-e05040d9b7a9"
      },
      "execution_count": null,
      "outputs": [
        {
          "output_type": "stream",
          "name": "stdout",
          "text": [
            "\n",
            "\n",
            "\n",
            "\n",
            "\n"
          ]
        }
      ]
    }
  ]
}